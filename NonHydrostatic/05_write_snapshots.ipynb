{
 "cells": [
  {
   "cell_type": "code",
   "execution_count": 1,
   "metadata": {},
   "outputs": [],
   "source": [
    "# Assuming that the fridom package is in the parent directory\n",
    "# If fridom is installed, the next two lines are not needed\n",
    "import sys, os\n",
    "sys.path.append(os.path.abspath('..'))\n",
    "\n",
    "import fridom.NonHydrostatic as nh"
   ]
  },
  {
   "cell_type": "markdown",
   "metadata": {},
   "source": [
    "# Writing Model Output\n",
    "The model output can be saved to a netcdf file by enabling the corresponding options in the model settings:"
   ]
  },
  {
   "cell_type": "code",
   "execution_count": 2,
   "metadata": {},
   "outputs": [
    {
     "name": "stderr",
     "output_type": "stream",
     "text": [
      "100%|██████████| 500/500 [00:04<00:00, 111.92it/s]\n"
     ]
    }
   ],
   "source": [
    "mset = nh.ModelSettings(\n",
    "  enable_snap=True, snap_interval=50, snap_filename=\"snap.cdf\")\n",
    "grid = nh.Grid(mset)\n",
    "\n",
    "model = nh.Model(mset, grid)\n",
    "model.z = nh.InitialConditions.Jet(mset, grid)\n",
    "model.run(runlen=1)             # run model for 1 time unit"
   ]
  },
  {
   "cell_type": "markdown",
   "metadata": {},
   "source": [
    "default is:\n",
    "```python\n",
    "enable_snap=False\n",
    "snap_interval=500\n",
    "snap_filename=\"snap.cdf\"\n",
    "```\n",
    "For high resolution models, one might want to reduce the data that is stored. The spatial snapshot resolution can be reduced by specifying a tuple of slices:"
   ]
  },
  {
   "cell_type": "code",
   "execution_count": 3,
   "metadata": {},
   "outputs": [
    {
     "name": "stderr",
     "output_type": "stream",
     "text": [
      "100%|██████████| 500/500 [00:09<00:00, 53.05it/s]\n"
     ]
    }
   ],
   "source": [
    "mset = nh.ModelSettings(enable_snap=True, snap_interval=50)\n",
    "mset.N = [300, 300, 50]\n",
    "\n",
    "# only save every 10th grid point in x and y\n",
    "# and only the last layer in z\n",
    "mset.snap_slice = (slice(0,None,10), slice(0,None,10), -1)\n",
    "\n",
    "grid = nh.Grid(mset)\n",
    "model = nh.Model(mset, grid)       \n",
    "model.z = nh.InitialConditions.Jet(mset, grid)\n",
    "model.run(runlen=1)             # run model for 1 time unit"
   ]
  },
  {
   "cell_type": "markdown",
   "metadata": {},
   "source": [
    "Note: The main process saves (u,v,w,b,p) to binary files, while a netcdf process is running in parallel which loads the binary files and organize them in a netCDF file. This parallelism makes it possible that the model continues to run while a different process organizes the data. However, when the snap interval is very small, the parallel writer might block the model, which results in performance issues."
   ]
  }
 ],
 "metadata": {
  "kernelspec": {
   "display_name": "cupy",
   "language": "python",
   "name": "python3"
  },
  "language_info": {
   "codemirror_mode": {
    "name": "ipython",
    "version": 3
   },
   "file_extension": ".py",
   "mimetype": "text/x-python",
   "name": "python",
   "nbconvert_exporter": "python",
   "pygments_lexer": "ipython3",
   "version": "3.9.18"
  },
  "orig_nbformat": 4
 },
 "nbformat": 4,
 "nbformat_minor": 2
}
