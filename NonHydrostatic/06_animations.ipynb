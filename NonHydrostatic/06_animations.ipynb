{
 "cells": [
  {
   "cell_type": "code",
   "execution_count": null,
   "metadata": {},
   "outputs": [],
   "source": [
    "# Assuming that the fridom package is in the parent directory\n",
    "# If fridom is installed, the next two lines are not needed\n",
    "import sys, os\n",
    "sys.path.append(os.path.abspath('..'))\n",
    "\n",
    "import fridom.NonHydrostatic as nh"
   ]
  },
  {
   "cell_type": "markdown",
   "metadata": {},
   "source": [
    "# Animations\n",
    "There are currently two different approaches implemented to make moving images of the simulation :\n",
    " - **Live Animation**: Shows the model state live during the simulation (doesn't create a video).\n",
    " - **Video Animation**: Adds a figure to a video every ... time step. "
   ]
  },
  {
   "cell_type": "markdown",
   "metadata": {},
   "source": [
    "## Video Animation\n",
    "To create a video animation, we need to build a plotting class on top of the ModelPlotter class."
   ]
  },
  {
   "cell_type": "code",
   "execution_count": null,
   "metadata": {},
   "outputs": [],
   "source": [
    "# Define the plotter\n",
    "class MyPlotter(nh.ModelPlotter):\n",
    "    def update_figure(fig, z, p, time, **kwargs):\n",
    "        # arguments must be (fig, z, p, time, **kwargs)\n",
    "        # Any figure properties can be updated here\n",
    "        nh.Plot(z.b).front(z, fig=fig)\n",
    "        fig.gca().set_title(f\"Front View,   t = {time:.3f}\")\n",
    "        return\n",
    "\n",
    "mset = nh.ModelSettings(L=[4, 4, 1], N=[100, 100, 20])\n",
    "mset.gpu = True\n",
    "mset.enable_vid_anim = True\n",
    "mset.vid_plotter = MyPlotter\n",
    "mset.vid_anim_interval = 20\n",
    "grid = nh.Grid(mset)\n",
    "model = nh.Model(mset, grid)\n",
    "model.z = nh.InitialConditions.SingleWave(mset, grid)\n",
    "model.run(runlen=2.0)\n",
    "model.show_video()"
   ]
  },
  {
   "cell_type": "markdown",
   "metadata": {},
   "source": [
    "## Live Animation\n",
    "The live animation works similar to the video animation, we can use the same plotter class or define a different one."
   ]
  },
  {
   "cell_type": "code",
   "execution_count": null,
   "metadata": {},
   "outputs": [],
   "source": [
    "# Define the plotter\n",
    "class MyPlotter(nh.ModelPlotter):\n",
    "    def update_figure(fig, z, p, time, **kwargs):\n",
    "        # arguments must be (fig, z, p, time, **kwargs)\n",
    "        # Any figure properties can be updated here\n",
    "        nh.Plot(z.b).front(z, fig=fig)\n",
    "        fig.gca().set_title(f\"Front View,   t = {time:.3f}\")\n",
    "        return\n",
    "\n",
    "\n",
    "# Now build the model\n",
    "mset = nh.ModelSettings(L=[4, 4, 1], N=[100, 100, 20])\n",
    "mset.enable_live_anim = True\n",
    "mset.live_plotter = MyPlotter\n",
    "mset.enable_tqdm = False        # is not compatible with live plotting\n",
    "grid = nh.Grid(mset)\n",
    "model = nh.Model(mset, grid)\n",
    "model.z = nh.InitialConditions.SingleWave(mset, grid)\n",
    "model.run(runlen=2)"
   ]
  }
 ],
 "metadata": {
  "kernelspec": {
   "display_name": "cupy",
   "language": "python",
   "name": "python3"
  },
  "language_info": {
   "codemirror_mode": {
    "name": "ipython",
    "version": 3
   },
   "file_extension": ".py",
   "mimetype": "text/x-python",
   "name": "python",
   "nbconvert_exporter": "python",
   "pygments_lexer": "ipython3",
   "version": "3.9.18"
  },
  "orig_nbformat": 4
 },
 "nbformat": 4,
 "nbformat_minor": 2
}
