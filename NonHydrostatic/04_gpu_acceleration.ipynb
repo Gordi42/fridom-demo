{
 "cells": [
  {
   "cell_type": "code",
   "execution_count": 1,
   "metadata": {},
   "outputs": [],
   "source": [
    "# Assuming that the fridom package is in the parent directory\n",
    "# If fridom is installed, the next two lines are not needed\n",
    "import sys, os\n",
    "sys.path.append(os.path.abspath('..'))\n",
    "\n",
    "import fridom.NonHydrostatic as nh"
   ]
  },
  {
   "cell_type": "markdown",
   "metadata": {},
   "source": [
    "# GPU Acceleration\n",
    "GPU Acceleration is turned on by default if cupy is installed. For instructions on how to install cupy, see the README.md file. It can be turned off in the Model Settings:"
   ]
  },
  {
   "cell_type": "code",
   "execution_count": 2,
   "metadata": {},
   "outputs": [
    {
     "name": "stderr",
     "output_type": "stream",
     "text": [
      "100%|██████████| 500/500 [00:22<00:00, 22.22it/s]\n"
     ]
    },
    {
     "data": {
      "text/plain": [
       "=====================================================\n",
       " Timing Summary: \n",
       "=====================================================\n",
       "Total Integration             : 00:00:22s   (100.0%)\n",
       "Diagnostics                   : 00:00:00s   (0.0%)\n",
       "Write Snapshot                : 00:00:00s   (0.0%)\n",
       "Live Plotting                 : 00:00:00s   (0.0%)\n",
       "Video Writer                  : 00:00:00s   (0.0%)\n",
       "Total Tendency                : 00:00:18s   (82.1%)\n",
       "Time Stepping                 : 00:00:03s   (17.1%)\n",
       "Linear Tendency               : 00:00:01s   (8.2%)\n",
       "Nonlinear Tendency            : 00:00:07s   (33.4%)\n",
       "Pressure Solve                : 00:00:08s   (35.6%)\n",
       "Pressure Gradient             : 00:00:01s   (4.8%)\n",
       "====================================================="
      ]
     },
     "execution_count": 2,
     "metadata": {},
     "output_type": "execute_result"
    }
   ],
   "source": [
    "# turning off GPU acceleration:\n",
    "mset = nh.ModelSettings(gpu=False)\n",
    "grid = nh.Grid(mset)\n",
    "model = nh.Model(mset, grid)\n",
    "model.z = nh.InitialConditions.SingleWave(mset, grid)\n",
    "model.run(runlen=1)\n",
    "model.timer"
   ]
  },
  {
   "cell_type": "code",
   "execution_count": 3,
   "metadata": {},
   "outputs": [
    {
     "name": "stderr",
     "output_type": "stream",
     "text": [
      "100%|██████████| 500/500 [00:03<00:00, 142.12it/s]\n"
     ]
    },
    {
     "data": {
      "text/plain": [
       "=====================================================\n",
       " Timing Summary: \n",
       "=====================================================\n",
       "Total Integration             : 00:00:03s   (100.0%)\n",
       "Diagnostics                   : 00:00:00s   (0.0%)\n",
       "Write Snapshot                : 00:00:00s   (0.0%)\n",
       "Live Plotting                 : 00:00:00s   (0.0%)\n",
       "Video Writer                  : 00:00:00s   (0.0%)\n",
       "Total Tendency                : 00:00:02s   (78.3%)\n",
       "Time Stepping                 : 00:00:00s   (19.9%)\n",
       "Linear Tendency               : 00:00:00s   (15.3%)\n",
       "Nonlinear Tendency            : 00:00:01s   (38.6%)\n",
       "Pressure Solve                : 00:00:00s   (16.6%)\n",
       "Pressure Gradient             : 00:00:00s   (7.3%)\n",
       "====================================================="
      ]
     },
     "execution_count": 3,
     "metadata": {},
     "output_type": "execute_result"
    }
   ],
   "source": [
    "# For comparison, here is the same code with GPU acceleration:\n",
    "mset = nh.ModelSettings(gpu=True)\n",
    "grid = nh.Grid(mset)\n",
    "model = nh.Model(mset, grid)\n",
    "model.z = nh.InitialConditions.SingleWave(mset, grid)\n",
    "model.run(runlen=1)\n",
    "model.timer"
   ]
  },
  {
   "cell_type": "markdown",
   "metadata": {},
   "source": [
    "In this example, the code with gpu acceleration is not much faster than without. The advantage of gpu accelaration becomes visible at much larger Resolution, consider for example the same code as before but with a resolution of 512x512x128:"
   ]
  },
  {
   "cell_type": "code",
   "execution_count": 4,
   "metadata": {},
   "outputs": [
    {
     "name": "stderr",
     "output_type": "stream",
     "text": [
      "100%|██████████| 250/250 [00:26<00:00,  9.26it/s]\n"
     ]
    },
    {
     "data": {
      "text/plain": [
       "=====================================================\n",
       " Timing Summary: \n",
       "=====================================================\n",
       "Total Integration             : 00:00:26s   (100.0%)\n",
       "Diagnostics                   : 00:00:00s   (0.0%)\n",
       "Write Snapshot                : 00:00:00s   (0.0%)\n",
       "Live Plotting                 : 00:00:00s   (0.0%)\n",
       "Video Writer                  : 00:00:00s   (0.0%)\n",
       "Total Tendency                : 00:00:26s   (97.9%)\n",
       "Time Stepping                 : 00:00:00s   (1.4%)\n",
       "Linear Tendency               : 00:00:08s   (33.0%)\n",
       "Nonlinear Tendency            : 00:00:03s   (11.8%)\n",
       "Pressure Solve                : 00:00:14s   (52.2%)\n",
       "Pressure Gradient             : 00:00:00s   (0.8%)\n",
       "====================================================="
      ]
     },
     "execution_count": 4,
     "metadata": {},
     "output_type": "execute_result"
    }
   ],
   "source": [
    "mset = nh.ModelSettings(gpu=True, N=[2**9, 2**9, 2**7])\n",
    "grid = nh.Grid(mset)\n",
    "model = nh.Model(mset, grid)\n",
    "model.z = nh.InitialConditions.SingleWave(mset, grid)\n",
    "model.run(runlen=0.5)\n",
    "model.timer"
   ]
  }
 ],
 "metadata": {
  "kernelspec": {
   "display_name": "cupy",
   "language": "python",
   "name": "python3"
  },
  "language_info": {
   "codemirror_mode": {
    "name": "ipython",
    "version": 3
   },
   "file_extension": ".py",
   "mimetype": "text/x-python",
   "name": "python",
   "nbconvert_exporter": "python",
   "pygments_lexer": "ipython3",
   "version": "3.9.18"
  }
 },
 "nbformat": 4,
 "nbformat_minor": 2
}
