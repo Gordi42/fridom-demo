{
 "cells": [
  {
   "cell_type": "code",
   "execution_count": 1,
   "metadata": {},
   "outputs": [],
   "source": [
    "# Assuming that the fridom package is in the parent directory\n",
    "# If fridom is installed, the next two lines are not needed\n",
    "import sys, os\n",
    "sys.path.append(os.path.abspath('..'))\n",
    "\n",
    "import fridom.ShallowWater as sw"
   ]
  },
  {
   "cell_type": "markdown",
   "metadata": {},
   "source": [
    "# GPU Acceleration\n",
    "GPU Acceleration is turned on by default if cupy is installed. For instructions on how to install cupy, see the README.md file. It can be turned off in the Model Settings:"
   ]
  },
  {
   "cell_type": "code",
   "execution_count": 2,
   "metadata": {},
   "outputs": [
    {
     "name": "stderr",
     "output_type": "stream",
     "text": [
      "  0%|          | 0/500 [00:00<?, ?it/s]"
     ]
    },
    {
     "name": "stderr",
     "output_type": "stream",
     "text": [
      "100%|██████████| 500/500 [00:02<00:00, 239.43it/s]\n"
     ]
    },
    {
     "data": {
      "text/plain": [
       "=====================================================\n",
       " Timing Summary: \n",
       "=====================================================\n",
       "Total Integration             : 00:00:02s   (100.0%)\n",
       "Diagnostics                   : 00:00:00s   (0.0%)\n",
       "Write Snapshot                : 00:00:00s   (0.0%)\n",
       "Live Plotting                 : 00:00:00s   (0.0%)\n",
       "Video Writer                  : 00:00:00s   (0.0%)\n",
       "Total Tendency                : 00:00:01s   (71.1%)\n",
       "Time Stepping                 : 00:00:00s   (26.6%)\n",
       "Linear Tendency               : 00:00:00s   (22.1%)\n",
       "Nonlinear Tendency            : 00:00:01s   (48.7%)\n",
       "Harmonic Tendency             : 00:00:00s   (0.0%)\n",
       "Biharmonic Tendency           : 00:00:00s   (0.0%)\n",
       "Source Tendency               : 00:00:00s   (0.0%)\n",
       "====================================================="
      ]
     },
     "execution_count": 2,
     "metadata": {},
     "output_type": "execute_result"
    }
   ],
   "source": [
    "# turning off GPU acceleration:\n",
    "mset = sw.ModelSettings(gpu=False, N=[255, 255])\n",
    "grid = sw.Grid(mset)\n",
    "model = sw.Model(mset, grid)\n",
    "model.z = sw.InitialConditions.SingleWave(mset, grid)\n",
    "model.run(runlen=1)\n",
    "model.timer"
   ]
  },
  {
   "cell_type": "code",
   "execution_count": 3,
   "metadata": {},
   "outputs": [
    {
     "name": "stderr",
     "output_type": "stream",
     "text": [
      "100%|██████████| 500/500 [00:01<00:00, 252.46it/s]\n"
     ]
    },
    {
     "data": {
      "text/plain": [
       "=====================================================\n",
       " Timing Summary: \n",
       "=====================================================\n",
       "Total Integration             : 00:00:01s   (100.0%)\n",
       "Diagnostics                   : 00:00:00s   (0.0%)\n",
       "Write Snapshot                : 00:00:00s   (0.0%)\n",
       "Live Plotting                 : 00:00:00s   (0.0%)\n",
       "Video Writer                  : 00:00:00s   (0.0%)\n",
       "Total Tendency                : 00:00:01s   (70.5%)\n",
       "Time Stepping                 : 00:00:00s   (26.9%)\n",
       "Linear Tendency               : 00:00:00s   (25.8%)\n",
       "Nonlinear Tendency            : 00:00:00s   (44.3%)\n",
       "Harmonic Tendency             : 00:00:00s   (0.0%)\n",
       "Biharmonic Tendency           : 00:00:00s   (0.0%)\n",
       "Source Tendency               : 00:00:00s   (0.0%)\n",
       "====================================================="
      ]
     },
     "execution_count": 3,
     "metadata": {},
     "output_type": "execute_result"
    }
   ],
   "source": [
    "# For comparison, here is the same code with GPU acceleration:\n",
    "mset = sw.ModelSettings(gpu=True, N=[255, 255])\n",
    "grid = sw.Grid(mset)\n",
    "model = sw.Model(mset, grid)\n",
    "model.z = sw.InitialConditions.SingleWave(mset, grid)\n",
    "model.run(runlen=1)\n",
    "model.timer"
   ]
  },
  {
   "cell_type": "markdown",
   "metadata": {},
   "source": [
    "In this example, the code with gpu acceleration is not faster then without. The advantage of gpu accelaration becomes visible at much larger Resolution, consider for example the same code as before but with a resolution of 2048x2048:"
   ]
  },
  {
   "cell_type": "code",
   "execution_count": 4,
   "metadata": {},
   "outputs": [
    {
     "name": "stderr",
     "output_type": "stream",
     "text": [
      "  0%|          | 0/1000 [00:00<?, ?it/s]"
     ]
    },
    {
     "name": "stderr",
     "output_type": "stream",
     "text": [
      "100%|██████████| 1000/1000 [00:09<00:00, 109.25it/s]\n"
     ]
    },
    {
     "data": {
      "text/plain": [
       "=====================================================\n",
       " Timing Summary: \n",
       "=====================================================\n",
       "Total Integration             : 00:00:09s   (100.0%)\n",
       "Diagnostics                   : 00:00:00s   (0.0%)\n",
       "Write Snapshot                : 00:00:00s   (0.0%)\n",
       "Live Plotting                 : 00:00:00s   (0.0%)\n",
       "Video Writer                  : 00:00:00s   (0.0%)\n",
       "Total Tendency                : 00:00:05s   (61.7%)\n",
       "Time Stepping                 : 00:00:03s   (36.5%)\n",
       "Linear Tendency               : 00:00:02s   (30.9%)\n",
       "Nonlinear Tendency            : 00:00:02s   (30.7%)\n",
       "Harmonic Tendency             : 00:00:00s   (0.0%)\n",
       "Biharmonic Tendency           : 00:00:00s   (0.0%)\n",
       "Source Tendency               : 00:00:00s   (0.0%)\n",
       "====================================================="
      ]
     },
     "execution_count": 4,
     "metadata": {},
     "output_type": "execute_result"
    }
   ],
   "source": [
    "mset = sw.ModelSettings(gpu=True, N=[2**11-1, 2**11-1], dt=2**-11)\n",
    "grid = sw.Grid(mset)\n",
    "model = sw.Model(mset, grid)\n",
    "model.z = sw.InitialConditions.SingleWave(mset, grid)\n",
    "model.run(steps=1000)\n",
    "model.timer"
   ]
  },
  {
   "cell_type": "markdown",
   "metadata": {},
   "source": [
    "# Benchmarking single GPU vs single CPU"
   ]
  },
  {
   "cell_type": "code",
   "execution_count": 5,
   "metadata": {},
   "outputs": [
    {
     "name": "stderr",
     "output_type": "stream",
     "text": [
      "100%|██████████| 31/31 [00:00<00:00, 235.95it/s]\n",
      "100%|██████████| 63/63 [00:00<00:00, 235.78it/s]\n",
      "100%|██████████| 127/127 [00:00<00:00, 246.58it/s]\n",
      "100%|██████████| 255/255 [00:01<00:00, 247.80it/s]\n",
      "100%|██████████| 511/511 [00:02<00:00, 244.09it/s]\n",
      "100%|██████████| 1023/1023 [00:04<00:00, 238.41it/s]\n",
      "100%|██████████| 31/31 [00:00<00:00, 1618.09it/s]\n",
      "100%|██████████| 63/63 [00:00<00:00, 1255.33it/s]\n",
      "100%|██████████| 127/127 [00:00<00:00, 641.03it/s]\n",
      "100%|██████████| 255/255 [00:01<00:00, 239.81it/s]\n",
      "100%|██████████| 511/511 [00:08<00:00, 62.49it/s]\n",
      "100%|██████████| 1023/1023 [01:50<00:00,  9.28it/s]\n"
     ]
    },
    {
     "data": {
      "text/plain": [
       "<matplotlib.legend.Legend at 0x7fffccaf1d90>"
      ]
     },
     "execution_count": 5,
     "metadata": {},
     "output_type": "execute_result"
    },
    {
     "data": {
      "image/png": "[encoded data removed]",
      "text/plain": [
       "<Figure size 640x480 with 1 Axes>"
      ]
     },
     "metadata": {},
     "output_type": "display_data"
    }
   ],
   "source": [
    "import time\n",
    "import matplotlib.pyplot as plt\n",
    "\n",
    "def model_time(res, gpu):\n",
    "    mset = sw.ModelSettings(N=[res, res], dt=1/res, gpu=gpu)\n",
    "    grid = sw.Grid(mset)\n",
    "    m = sw.Model(mset, grid)\n",
    "    m.z = sw.InitialConditions.SingleWave(mset, grid)\n",
    "    start_time = time.time()\n",
    "    m.run(runlen=1)\n",
    "    return time.time() - start_time\n",
    "\n",
    "resolutions = [2**i-1 for i in range(5, 11)]\n",
    "gpu_times = [model_time(res, True) for res in resolutions]\n",
    "cpu_times = [model_time(res, False) for res in resolutions]\n",
    "\n",
    "plt.plot(resolutions, gpu_times, label=\"GPU\", marker=\"s\")\n",
    "plt.plot(resolutions, cpu_times, label=\"CPU\", marker=\"s\")\n",
    "plt.xlabel(\"Resolution\")\n",
    "plt.ylabel(\"Time (s)\")\n",
    "plt.xscale(\"log\")\n",
    "plt.yscale(\"log\")\n",
    "plt.xticks(resolutions, resolutions)\n",
    "plt.legend()"
   ]
  }
 ],
 "metadata": {
  "kernelspec": {
   "display_name": "cupy",
   "language": "python",
   "name": "python3"
  },
  "language_info": {
   "codemirror_mode": {
    "name": "ipython",
    "version": 3
   },
   "file_extension": ".py",
   "mimetype": "text/x-python",
   "name": "python",
   "nbconvert_exporter": "python",
   "pygments_lexer": "ipython3",
   "version": "3.9.18"
  }
 },
 "nbformat": 4,
 "nbformat_minor": 2
}
